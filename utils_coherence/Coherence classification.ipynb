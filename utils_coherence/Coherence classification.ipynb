{
 "cells": [
  {
   "cell_type": "code",
   "execution_count": 1,
   "metadata": {},
   "outputs": [],
   "source": [
    "import warnings\n",
    "warnings.filterwarnings('ignore')"
   ]
  },
  {
   "cell_type": "code",
   "execution_count": 2,
   "metadata": {},
   "outputs": [],
   "source": [
    "import matplotlib.pyplot as plt\n",
    "import pandas as pd\n",
    "import torch\n",
    "from torchtext.data import Field, TabularDataset, BucketIterator, Iterator\n",
    "import torch.nn as nn\n",
    "from transformers import BertTokenizer, BertForSequenceClassification\n",
    "import torch.optim as optim\n",
    "from sklearn.metrics import accuracy_score, classification_report, confusion_matrix\n",
    "import seaborn as sns\n",
    "from tqdm.notebook import tqdm\n",
    "from transformers import AutoConfig, AutoModelForSequenceClassification, AutoTokenizer, EvalPrediction"
   ]
  },
  {
   "cell_type": "code",
   "execution_count": 3,
   "metadata": {},
   "outputs": [],
   "source": [
    "!CUDA_VISIBLE_DEVICES=0"
   ]
  },
  {
   "cell_type": "code",
   "execution_count": 4,
   "metadata": {},
   "outputs": [
    {
     "data": {
      "text/plain": [
       "device(type='cuda')"
      ]
     },
     "execution_count": 4,
     "metadata": {},
     "output_type": "execute_result"
    }
   ],
   "source": [
    "device = torch.device(\"cuda\" if torch.cuda.is_available() else \"cpu\")\n",
    "device"
   ]
  },
  {
   "cell_type": "code",
   "execution_count": 5,
   "metadata": {},
   "outputs": [],
   "source": [
    "torch.cuda.set_device(0)"
   ]
  },
  {
   "cell_type": "code",
   "execution_count": null,
   "metadata": {},
   "outputs": [],
   "source": [
    "def count_tokens(x):\n",
    "    return len(x.split())"
   ]
  },
  {
   "cell_type": "code",
   "execution_count": null,
   "metadata": {},
   "outputs": [],
   "source": [
    "# max min mean \n",
    "df = pd.read_csv('data/train.csv')\n",
    "df['tokens'] = df.text.map(lambda x: count_tokens(x))\n",
    "df.tokens.agg([\"max\",\"min\",\"mean\"])"
   ]
  },
  {
   "cell_type": "code",
   "execution_count": 76,
   "metadata": {},
   "outputs": [],
   "source": [
    "tokenizer = BertTokenizer.from_pretrained('bert-base-uncased')\n",
    "\n",
    "# Model parameter\n",
    "MAX_SEQ_LEN = 128\n",
    "PAD_INDEX = tokenizer.convert_tokens_to_ids(tokenizer.pad_token)\n",
    "UNK_INDEX = tokenizer.convert_tokens_to_ids(tokenizer.unk_token)\n",
    "source_folder = 'data'\n",
    "\n",
    "label_field = Field(sequential=False, use_vocab=False, batch_first=True, dtype=torch.float)\n",
    "text_field = Field(use_vocab=False, tokenize=tokenizer.encode, lower=False, include_lengths=False, batch_first=True,\n",
    "                   fix_length=MAX_SEQ_LEN, pad_token=PAD_INDEX, unk_token=UNK_INDEX)\n",
    "fields = [('text', text_field), ('label', label_field)]\n",
    "\n",
    "# TabularDataset\n",
    "\n",
    "train, valid, test = TabularDataset.splits(path=source_folder, train='train_mixed.csv', validation='valid.csv',\n",
    "                                           test='test_mixed.csv', format='CSV', fields=fields, skip_header=True)\n",
    "\n",
    "# Iterators\n",
    "\n",
    "train_iter = BucketIterator(train, batch_size=32, sort_key=lambda x: len(x.text),\n",
    "                            device=device, train=True, sort=True, sort_within_batch=True)\n",
    "valid_iter = BucketIterator(valid, batch_size=32, sort_key=lambda x: len(x.text),\n",
    "                            device=device, train=True, sort=True, sort_within_batch=True)\n",
    "test_iter = Iterator(test, batch_size=32, device=device, train=False, shuffle=False, sort=False)"
   ]
  },
  {
   "cell_type": "code",
   "execution_count": 8,
   "metadata": {},
   "outputs": [],
   "source": [
    "class BERT(nn.Module):\n",
    "\n",
    "    def __init__(self):\n",
    "        super(BERT, self).__init__()\n",
    "\n",
    "        options_name = \"bert-base-uncased\"\n",
    "        self.bert = BertForSequenceClassification.from_pretrained(options_name)\n",
    "\n",
    "    def forward(self, text, label):\n",
    "        loss, text_fea = self.bert(text, labels=label)[:2]\n",
    "\n",
    "        return loss, text_fea"
   ]
  },
  {
   "cell_type": "code",
   "execution_count": 9,
   "metadata": {},
   "outputs": [],
   "source": [
    "# Save and Load Functions\n",
    "\n",
    "def save_checkpoint(save_path, model, valid_loss):\n",
    "\n",
    "    if save_path == None:\n",
    "        return\n",
    "    \n",
    "    state_dict = {'model_state_dict': model.state_dict(),\n",
    "                  'valid_loss': valid_loss}\n",
    "    \n",
    "    torch.save(state_dict, save_path)\n",
    "    print(f'Model saved to ==> {save_path}')\n",
    "\n",
    "def load_checkpoint(load_path, model):\n",
    "    \n",
    "    if load_path==None:\n",
    "        return\n",
    "    \n",
    "    state_dict = torch.load(load_path, map_location=device)\n",
    "    print(f'Model loaded from <== {load_path}')\n",
    "    \n",
    "    model.load_state_dict(state_dict['model_state_dict'])\n",
    "    return state_dict['valid_loss']\n",
    "\n",
    "\n",
    "def save_metrics(save_path, train_loss_list, valid_loss_list, global_steps_list):\n",
    "\n",
    "    if save_path == None:\n",
    "        return\n",
    "    \n",
    "    state_dict = {'train_loss_list': train_loss_list,\n",
    "                  'valid_loss_list': valid_loss_list,\n",
    "                  'global_steps_list': global_steps_list}\n",
    "    \n",
    "    torch.save(state_dict, save_path)\n",
    "    print(f'Model saved to ==> {save_path}')\n",
    "\n",
    "\n",
    "def load_metrics(load_path):\n",
    "\n",
    "    if load_path==None:\n",
    "        return\n",
    "    \n",
    "    state_dict = torch.load(load_path, map_location=device)\n",
    "    print(f'Model loaded from <== {load_path}')\n",
    "    \n",
    "    return state_dict['train_loss_list'], state_dict['valid_loss_list'], state_dict['global_steps_list']"
   ]
  },
  {
   "cell_type": "code",
   "execution_count": 34,
   "metadata": {},
   "outputs": [
    {
     "name": "stderr",
     "output_type": "stream",
     "text": [
      "Some weights of the model checkpoint at bert-base-uncased were not used when initializing BertForSequenceClassification: ['cls.predictions.bias', 'cls.predictions.transform.dense.weight', 'cls.predictions.transform.dense.bias', 'cls.predictions.decoder.weight', 'cls.seq_relationship.weight', 'cls.seq_relationship.bias', 'cls.predictions.transform.LayerNorm.weight', 'cls.predictions.transform.LayerNorm.bias']\n",
      "- This IS expected if you are initializing BertForSequenceClassification from the checkpoint of a model trained on another task or with another architecture (e.g. initializing a BertForSequenceClassification model from a BertForPretraining model).\n",
      "- This IS NOT expected if you are initializing BertForSequenceClassification from the checkpoint of a model that you expect to be exactly identical (initializing a BertForSequenceClassification model from a BertForSequenceClassification model).\n",
      "Some weights of BertForSequenceClassification were not initialized from the model checkpoint at bert-base-uncased and are newly initialized: ['classifier.weight', 'classifier.bias']\n",
      "You should probably TRAIN this model on a down-stream task to be able to use it for predictions and inference.\n"
     ]
    },
    {
     "data": {
      "application/vnd.jupyter.widget-view+json": {
       "model_id": "872152ac42484f9e91162750223a148f",
       "version_major": 2,
       "version_minor": 0
      },
      "text/plain": [
       "HBox(children=(FloatProgress(value=0.0, description='epochs', max=1.0, style=ProgressStyle(description_width='…"
      ]
     },
     "metadata": {},
     "output_type": "display_data"
    },
    {
     "data": {
      "application/vnd.jupyter.widget-view+json": {
       "model_id": "0e91fe61ebb04ef5bc2b3442e9dfbcea",
       "version_major": 2,
       "version_minor": 0
      },
      "text/plain": [
       "HBox(children=(FloatProgress(value=0.0, description='training examples', max=258.0, style=ProgressStyle(descri…"
      ]
     },
     "metadata": {},
     "output_type": "display_data"
    },
    {
     "name": "stdout",
     "output_type": "stream",
     "text": [
      "Epoch [1/1], Step [129/258], Train Loss: 0.4090, Valid Loss: 0.1445\n",
      "Model saved to ==> output_mixed_new/model.pt\n",
      "Model saved to ==> output_mixed_new/metrics.pt\n",
      "Epoch [1/1], Step [258/258], Train Loss: 0.1103, Valid Loss: 0.0957\n",
      "Model saved to ==> output_mixed_new/model.pt\n",
      "Model saved to ==> output_mixed_new/metrics.pt\n",
      "\n",
      "\n",
      "Model saved to ==> output_mixed_new/metrics.pt\n",
      "Finished Training!\n"
     ]
    }
   ],
   "source": [
    "\n",
    "# Training Function\n",
    "destination_folder = 'output_mixed_new'\n",
    "def train(model,\n",
    "          optimizer,\n",
    "          criterion = nn.BCELoss(),\n",
    "          train_loader = train_iter,\n",
    "          valid_loader = valid_iter,\n",
    "          num_epochs = 1,\n",
    "          eval_every = len(train_iter) // 2,\n",
    "          file_path = destination_folder,\n",
    "          best_valid_loss = float(\"Inf\")):\n",
    "    \n",
    "    # initialize running values\n",
    "    running_loss = 0.0\n",
    "    valid_running_loss = 0.0\n",
    "    global_step = 0\n",
    "    train_loss_list = []\n",
    "    valid_loss_list = []\n",
    "    global_steps_list = []\n",
    "\n",
    "    # training loop\n",
    "    model.train()\n",
    "    for epoch in tqdm(range(num_epochs), desc='epochs'):\n",
    "        for (text, labels), _ in tqdm(train_loader, desc='training examples'):\n",
    "            labels = labels.type(torch.LongTensor)           \n",
    "            labels = labels.to(device)\n",
    "            text = text.type(torch.LongTensor)  \n",
    "            text = text.to(device)\n",
    "            output = model(text, labels)\n",
    "            loss, _ = output\n",
    "\n",
    "            optimizer.zero_grad()\n",
    "            loss.backward()\n",
    "            optimizer.step()\n",
    "\n",
    "            # update running values\n",
    "            running_loss += loss.item()\n",
    "            global_step += 1\n",
    "\n",
    "            # evaluation step\n",
    "            if global_step % eval_every == 0:\n",
    "                model.eval()\n",
    "                with torch.no_grad():                    \n",
    "\n",
    "                    # validation loop\n",
    "                    for (text, labels), _ in valid_loader:\n",
    "                        labels = labels.type(torch.LongTensor)           \n",
    "                        labels = labels.to(device)\n",
    "                        text = text.type(torch.LongTensor)  \n",
    "                        text = text.to(device)\n",
    "                        output = model(text, labels)\n",
    "                        loss, _ = output\n",
    "                        \n",
    "                        valid_running_loss += loss.item()\n",
    "\n",
    "                # evaluation\n",
    "                average_train_loss = running_loss / eval_every\n",
    "                average_valid_loss = valid_running_loss / len(valid_loader)\n",
    "                train_loss_list.append(average_train_loss)\n",
    "                valid_loss_list.append(average_valid_loss)\n",
    "                global_steps_list.append(global_step)\n",
    "\n",
    "                # resetting running values\n",
    "                running_loss = 0.0                \n",
    "                valid_running_loss = 0.0\n",
    "                model.train()\n",
    "\n",
    "                # print progress\n",
    "                print('Epoch [{}/{}], Step [{}/{}], Train Loss: {:.4f}, Valid Loss: {:.4f}'\n",
    "                      .format(epoch+1, num_epochs, global_step, num_epochs*len(train_loader),\n",
    "                              average_train_loss, average_valid_loss))\n",
    "                \n",
    "                # checkpoint\n",
    "                if best_valid_loss > average_valid_loss:\n",
    "                    best_valid_loss = average_valid_loss\n",
    "                    save_checkpoint(file_path + '/' + 'model.pt', model, best_valid_loss)\n",
    "                    save_metrics(file_path + '/' + 'metrics.pt', train_loss_list, valid_loss_list, global_steps_list)\n",
    "    \n",
    "    save_metrics(file_path + '/' + 'metrics.pt', train_loss_list, valid_loss_list, global_steps_list)\n",
    "    print('Finished Training!')\n",
    "\n",
    "model = BERT().to(device)\n",
    "optimizer = optim.Adam(model.parameters(), lr=2e-5)\n",
    "\n",
    "train(model=model, optimizer=optimizer)"
   ]
  },
  {
   "cell_type": "code",
   "execution_count": 35,
   "metadata": {},
   "outputs": [
    {
     "name": "stdout",
     "output_type": "stream",
     "text": [
      "Model loaded from <== output_mixed_new/metrics.pt\n"
     ]
    },
    {
     "data": {
      "image/png": "[encoded data removed]",
      "text/plain": [
       "<Figure size 432x288 with 1 Axes>"
      ]
     },
     "metadata": {
      "needs_background": "light"
     },
     "output_type": "display_data"
    }
   ],
   "source": [
    "destination_folder = 'output_mixed_new'\n",
    "train_loss_list, valid_loss_list, global_steps_list = load_metrics(destination_folder + '/metrics.pt')\n",
    "plt.plot(global_steps_list, train_loss_list, label='Train')\n",
    "plt.plot(global_steps_list, valid_loss_list, label='Valid')\n",
    "plt.xlabel('Global Steps')\n",
    "plt.ylabel('Loss')\n",
    "plt.legend()\n",
    "plt.show() "
   ]
  },
  {
   "cell_type": "code",
   "execution_count": 13,
   "metadata": {},
   "outputs": [],
   "source": [
    "\n",
    "def evaluate(model, test_loader):\n",
    "    y_pred = []\n",
    "    y_true = []\n",
    "    x_text = []\n",
    "\n",
    "    model.eval()\n",
    "    with torch.no_grad():\n",
    "        for (text, labels), _ in tqdm(test_loader, desc='Testing examples'):\n",
    "                labels = labels.type(torch.LongTensor)           \n",
    "                labels = labels.to(device)\n",
    "                text = text.type(torch.LongTensor)  \n",
    "                text = text.to(device)\n",
    "                output = model(text, labels)\n",
    "\n",
    "                _, output = output\n",
    "                x_text.extend(text.tolist())\n",
    "                y_pred.extend(torch.argmax(output, 1).tolist())\n",
    "                y_true.extend(labels.tolist())\n",
    "    \n",
    "    print('Classification Report:')\n",
    "    print(classification_report(y_true, y_pred, labels=[1,0], digits=4))\n",
    "    \n",
    "    cm = confusion_matrix(y_true, y_pred, labels=[1,0])\n",
    "    ax= plt.subplot()\n",
    "    sns.heatmap(cm, annot=True, ax = ax, cmap='Blues', fmt=\"d\")\n",
    "\n",
    "    ax.set_title('Confusion Matrix')\n",
    "\n",
    "    ax.set_xlabel('Predicted Labels')\n",
    "    ax.set_ylabel('True Labels')\n",
    "\n",
    "    ax.xaxis.set_ticklabels(['1', '0'])\n",
    "    ax.yaxis.set_ticklabels(['1', '0'])\n",
    "    plt.show()\n",
    "    return x_text, y_pred, y_true"
   ]
  },
  {
   "cell_type": "code",
   "execution_count": 78,
   "metadata": {},
   "outputs": [
    {
     "data": {
      "application/vnd.jupyter.widget-view+json": {
       "model_id": "fce0ee6bec63481aa367b144a1203556",
       "version_major": 2,
       "version_minor": 0
      },
      "text/plain": [
       "HBox(children=(FloatProgress(value=0.0, description='Testing examples', max=35.0, style=ProgressStyle(descript…"
      ]
     },
     "metadata": {},
     "output_type": "display_data"
    },
    {
     "name": "stdout",
     "output_type": "stream",
     "text": [
      "\n",
      "Classification Report:\n",
      "              precision    recall  f1-score   support\n",
      "\n",
      "           1     0.8055    0.9601    0.8760       552\n",
      "           0     0.9507    0.7681    0.8497       552\n",
      "\n",
      "    accuracy                         0.8641      1104\n",
      "   macro avg     0.8781    0.8641    0.8629      1104\n",
      "weighted avg     0.8781    0.8641    0.8629      1104\n",
      "\n"
     ]
    },
    {
     "data": {
      "image/png": "[encoded data removed]",
      "text/plain": [
       "<Figure size 432x288 with 2 Axes>"
      ]
     },
     "metadata": {
      "needs_background": "light"
     },
     "output_type": "display_data"
    }
   ],
   "source": [
    "destination_folder = 'output_mixed_new'\n",
    "#best_model = BERT().to(device)\n",
    "\n",
    "#load_checkpoint(destination_folder + '/model.pt', best_model)\n",
    "x_text, y_pred, y_true = evaluate(model, test_iter)"
   ]
  },
  {
   "cell_type": "code",
   "execution_count": 58,
   "metadata": {},
   "outputs": [],
   "source": [
    "def convert_ids_to_sentence(seq,tokenizer):\n",
    "    idx = seq.index(102)\n",
    "    seq = seq[1:idx]\n",
    "    return tokenizer.decode(seq)"
   ]
  },
  {
   "cell_type": "code",
   "execution_count": 38,
   "metadata": {},
   "outputs": [],
   "source": [
    "df = pd.DataFrame(zip(x_text,y_pred,y_true), columns=['text', 'y_pred', 'y_true'])\n",
    "df = df[(df['y_pred'] == 0) & (df['y_true'] == 1)]\n",
    "df['sentence'] = df.text.map(lambda x: convert_ids_to_sentence(x, tokenizer))"
   ]
  },
  {
   "cell_type": "code",
   "execution_count": 39,
   "metadata": {},
   "outputs": [
    {
     "data": {
      "text/html": [
       "<div>\n",
       "<style scoped>\n",
       "    .dataframe tbody tr th:only-of-type {\n",
       "        vertical-align: middle;\n",
       "    }\n",
       "\n",
       "    .dataframe tbody tr th {\n",
       "        vertical-align: top;\n",
       "    }\n",
       "\n",
       "    .dataframe thead th {\n",
       "        text-align: right;\n",
       "    }\n",
       "</style>\n",
       "<table border=\"1\" class=\"dataframe\">\n",
       "  <thead>\n",
       "    <tr style=\"text-align: right;\">\n",
       "      <th></th>\n",
       "      <th>text</th>\n",
       "      <th>y_pred</th>\n",
       "      <th>y_true</th>\n",
       "      <th>sentence</th>\n",
       "    </tr>\n",
       "  </thead>\n",
       "  <tbody>\n",
       "    <tr>\n",
       "      <th>22</th>\n",
       "      <td>[101, 4067, 2017, 1010, 9119, 999, 102, 0, 0, ...</td>\n",
       "      <td>0</td>\n",
       "      <td>1</td>\n",
       "      <td>thank you, goodbye!</td>\n",
       "    </tr>\n",
       "    <tr>\n",
       "      <th>27</th>\n",
       "      <td>[101, 2073, 2024, 2017, 2975, 2013, 1029, 102,...</td>\n",
       "      <td>0</td>\n",
       "      <td>1</td>\n",
       "      <td>where are you leaving from?</td>\n",
       "    </tr>\n",
       "    <tr>\n",
       "      <th>54</th>\n",
       "      <td>[101, 1996, 5700, 3345, 3727, 2012, 2459, 1024...</td>\n",
       "      <td>0</td>\n",
       "      <td>1</td>\n",
       "      <td>the earliest train leaves at 17 : 00</td>\n",
       "    </tr>\n",
       "    <tr>\n",
       "      <th>114</th>\n",
       "      <td>[101, 4067, 2017, 1010, 9119, 999, 102, 0, 0, ...</td>\n",
       "      <td>0</td>\n",
       "      <td>1</td>\n",
       "      <td>thank you, goodbye!</td>\n",
       "    </tr>\n",
       "    <tr>\n",
       "      <th>135</th>\n",
       "      <td>[101, 1045, 102, 0, 0, 0, 0, 0, 0, 0, 0, 0, 0,...</td>\n",
       "      <td>0</td>\n",
       "      <td>1</td>\n",
       "      <td>i</td>\n",
       "    </tr>\n",
       "    <tr>\n",
       "      <th>...</th>\n",
       "      <td>...</td>\n",
       "      <td>...</td>\n",
       "      <td>...</td>\n",
       "      <td>...</td>\n",
       "    </tr>\n",
       "    <tr>\n",
       "      <th>7246</th>\n",
       "      <td>[101, 19817, 2620, 2683, 16703, 3727, 2012, 23...</td>\n",
       "      <td>0</td>\n",
       "      <td>1</td>\n",
       "      <td>tr8932 leaves at 15 : 11</td>\n",
       "    </tr>\n",
       "    <tr>\n",
       "      <th>7254</th>\n",
       "      <td>[101, 9660, 2406, 2380, 9660, 2346, 9660, 2406...</td>\n",
       "      <td>0</td>\n",
       "      <td>1</td>\n",
       "      <td>milton country park milton road milton country...</td>\n",
       "    </tr>\n",
       "    <tr>\n",
       "      <th>7260</th>\n",
       "      <td>[101, 2045, 2003, 1037, 5988, 1010, 1037, 2688...</td>\n",
       "      <td>0</td>\n",
       "      <td>1</td>\n",
       "      <td>there is a cinema, a museum, a theatre, a park...</td>\n",
       "    </tr>\n",
       "    <tr>\n",
       "      <th>7266</th>\n",
       "      <td>[101, 1045, 102, 0, 0, 0, 0, 0, 0, 0, 0, 0, 0,...</td>\n",
       "      <td>0</td>\n",
       "      <td>1</td>\n",
       "      <td>i</td>\n",
       "    </tr>\n",
       "    <tr>\n",
       "      <th>7286</th>\n",
       "      <td>[101, 4067, 2017, 1010, 9119, 999, 102, 0, 0, ...</td>\n",
       "      <td>0</td>\n",
       "      <td>1</td>\n",
       "      <td>thank you, goodbye!</td>\n",
       "    </tr>\n",
       "  </tbody>\n",
       "</table>\n",
       "<p>214 rows × 4 columns</p>\n",
       "</div>"
      ],
      "text/plain": [
       "                                                   text  y_pred  y_true  \\\n",
       "22    [101, 4067, 2017, 1010, 9119, 999, 102, 0, 0, ...       0       1   \n",
       "27    [101, 2073, 2024, 2017, 2975, 2013, 1029, 102,...       0       1   \n",
       "54    [101, 1996, 5700, 3345, 3727, 2012, 2459, 1024...       0       1   \n",
       "114   [101, 4067, 2017, 1010, 9119, 999, 102, 0, 0, ...       0       1   \n",
       "135   [101, 1045, 102, 0, 0, 0, 0, 0, 0, 0, 0, 0, 0,...       0       1   \n",
       "...                                                 ...     ...     ...   \n",
       "7246  [101, 19817, 2620, 2683, 16703, 3727, 2012, 23...       0       1   \n",
       "7254  [101, 9660, 2406, 2380, 9660, 2346, 9660, 2406...       0       1   \n",
       "7260  [101, 2045, 2003, 1037, 5988, 1010, 1037, 2688...       0       1   \n",
       "7266  [101, 1045, 102, 0, 0, 0, 0, 0, 0, 0, 0, 0, 0,...       0       1   \n",
       "7286  [101, 4067, 2017, 1010, 9119, 999, 102, 0, 0, ...       0       1   \n",
       "\n",
       "                                               sentence  \n",
       "22                                  thank you, goodbye!  \n",
       "27                          where are you leaving from?  \n",
       "54                 the earliest train leaves at 17 : 00  \n",
       "114                                 thank you, goodbye!  \n",
       "135                                                   i  \n",
       "...                                                 ...  \n",
       "7246                           tr8932 leaves at 15 : 11  \n",
       "7254  milton country park milton road milton country...  \n",
       "7260  there is a cinema, a museum, a theatre, a park...  \n",
       "7266                                                  i  \n",
       "7286                                thank you, goodbye!  \n",
       "\n",
       "[214 rows x 4 columns]"
      ]
     },
     "execution_count": 39,
     "metadata": {},
     "output_type": "execute_result"
    }
   ],
   "source": [
    "df"
   ]
  },
  {
   "cell_type": "code",
   "execution_count": 40,
   "metadata": {
    "collapsed": true
   },
   "outputs": [
    {
     "name": "stdout",
     "output_type": "stream",
     "text": [
      "thank you, goodbye!\n",
      "\n",
      "where are you leaving from?\n",
      "\n",
      "the earliest train leaves at 17 : 00\n",
      "\n",
      "thank you, goodbye!\n",
      "\n",
      "i\n",
      "\n",
      "thank you, goodbye!\n",
      "\n",
      "the phone numbe\n",
      "\n",
      "i\n",
      "\n",
      "the phone numbe\n",
      "\n",
      "tr8944 will get you in by 15 : 39.\n",
      "\n",
      "it is expensive\n",
      "\n",
      "the address i\n",
      "\n",
      "tr5713 is the train id.\n",
      "\n",
      "thank you, goodbye!\n",
      "\n",
      "the departure time is 5 : 40\n",
      "\n",
      "thank you, goodbye!\n",
      "\n",
      "tr9226 arrives by 17 : 58\n",
      "\n",
      "tr7802 would work for you, would you like me to book it?\n",
      "\n",
      "tr8118 leaves at 19 : 21\n",
      "\n",
      "tr1719 arrives at 10 : 09.\n",
      "\n",
      "i have tw\n",
      "\n",
      "tr2162 leaves at 14 : 11.\n",
      "\n",
      "thank you, goodbye!\n",
      "\n",
      "it is 49 minutes\n",
      "\n",
      "the address i\n",
      "\n",
      "it is a hotel\n",
      "\n",
      "191 histon road chesterton\n",
      "\n",
      "when do you want to leave by?\n",
      "\n",
      "i have\n",
      "\n",
      "where are you leaving from?\n",
      "\n",
      "i would recommend allenbell\n",
      "\n",
      "it is 5 pounds to get in\n",
      "\n",
      "the address i\n",
      "\n",
      "the address i\n",
      "\n",
      "the address fo\n",
      "\n",
      "yes it will pick you up\n",
      "\n",
      "tr3677 arrives by 17 : 58.\n",
      "\n",
      "tr9102 is the train id, would you like me to book it for you?\n",
      "\n",
      "the soul tree nightclub is 4 pounds to get in.\n",
      "\n",
      "tr5297 would work for you. would you like me to book it for you?\n",
      "\n",
      "i\n",
      "\n",
      "i\n",
      "\n",
      "ballare is a nice place\n",
      "\n",
      "old schools is an architecture attraction in the center of the city\n",
      "\n",
      "the entrance fee is free\n",
      "\n",
      "the address i\n",
      "\n",
      "the phone numbe\n",
      "\n",
      "the tr9345 leaves at 12 : 19\n",
      "\n",
      "i have tw\n",
      "\n",
      "when do you want to leave by?\n",
      "\n",
      "i have\n",
      "\n",
      "the address i\n",
      "\n",
      "the train that arrives closest to 10 : 30 is tr5167. it arrives at 10 : 32\n",
      "\n",
      "thank you, goodbye!\n",
      "\n",
      "tr8008 leaves at 05. 01\n",
      "\n",
      "jinling noodle bar is available\n",
      "\n",
      "thank you, goodbye!\n",
      "\n",
      "it is an architecture attraction\n",
      "\n",
      "62 gilbert road\n",
      "\n",
      "the phone numbe\n",
      "\n",
      "tr3637 is the train id, would you like me to book it for you?\n",
      "\n",
      "i have\n",
      "\n",
      "the phone numbe\n",
      "\n",
      "tr4809 leaves at 20 : 11.\n",
      "\n",
      "i have\n",
      "\n",
      "i have tw\n",
      "\n",
      "the address i\n",
      "\n",
      "tr4567 leaves at 10 : 01.\n",
      "\n",
      "i have\n",
      "\n",
      "the address i\n",
      "\n",
      "tr1830 arrives by 14 : 43.\n",
      "\n",
      "i\n",
      "\n",
      "thank you, goodbye!\n",
      "\n",
      "the phone numbe\n",
      "\n",
      "tr5291 arrives at 21 : 35.\n",
      "\n",
      "the phone numbe\n",
      "\n",
      "tr4015 leaves at 19 : 54 and arrives at 20 : 43.\n",
      "\n",
      "i have\n",
      "\n",
      "the address i\n",
      "\n",
      "the address i\n",
      "\n",
      "the phone numbe\n",
      "\n",
      "tr2061 leaves at 05 : 29\n",
      "\n",
      "the tr3412 will get you there at 11 : 52 on tuesday.\n",
      "\n",
      "thank you, goodbye!\n",
      "\n",
      "tr8726 would work for you, would you like to book a ticket?\n",
      "\n",
      "i\n",
      "\n",
      "the phone numbe\n",
      "\n",
      "tr0385 leaves at 19 : 21.\n",
      "\n",
      "it is in the cheap price range\n",
      "\n",
      "the phone numbe\n",
      "\n",
      "i have tw\n",
      "\n",
      "when do you want to leave by?\n",
      "\n",
      "tr1037 leaves from the same city.\n",
      "\n",
      "i have tw\n",
      "\n",
      "tr 0559 arrives by 10 : 32.\n",
      "\n",
      "i would recommend the lan hong house\n",
      "\n",
      "finches bed and breakfast is in the cheap price range\n",
      "\n",
      "the address i\n",
      "\n",
      "the address fo\n",
      "\n",
      "thank you, goodbye!\n",
      "\n",
      "i found 1 in the centre and 1 in the south\n",
      "\n",
      "i\n",
      "\n",
      "yes, it does have free parking\n",
      "\n",
      "tr1978 would be perfect for you. would you like me to book that for you?\n",
      "\n",
      "where are you leaving from?\n",
      "\n",
      "i have\n",
      "\n",
      "tr1159 arrives by 12 : 07, will that work?\n",
      "\n",
      "tr5502 leaves at 3 : 17pm, is that fine with you?\n",
      "\n",
      "there are trains leaving at 5 : 06, 6 : 06, 7 : 06, 8 : 06, 9 : 06, 10 : 06, 11 : 06, 12 : 06, 13 : 06, 14 : 06, 16 : 06. all of them are 50 minutes. do you have\n",
      "\n",
      "i have 2 options for you\n",
      "\n",
      "tr7729 leaves at 17 : 21\n",
      "\n",
      "the address i\n",
      "\n",
      "i have\n",
      "\n",
      "tr1428 leaves at 18 : 32 and arrives at 19 : 32.\n",
      "\n",
      "60 minutes.\n",
      "\n",
      "yes it is in the expensive price range\n",
      "\n",
      "the address i\n",
      "\n",
      "tr2895 arrives by 7 : 27.\n",
      "\n",
      "the phone numbe\n",
      "\n",
      "i have tw\n",
      "\n",
      "tr4594 arrives at 12 : 07.\n",
      "\n",
      "i have\n",
      "\n",
      "the phone numbe\n",
      "\n",
      "the phone numbe\n",
      "\n",
      "where are you departing from? wednesday?\n",
      "\n",
      "tr6898 leaves at 15 : 35\n",
      "\n",
      "the address i\n",
      "\n",
      "i\n",
      "\n",
      "i have\n",
      "\n",
      "the phone numbe\n",
      "\n",
      "it is in the center of town\n",
      "\n",
      "tr3934 leaves at 12 : 34 and arrives by 13 : 24, travel time is 50 minutes.\n",
      "\n",
      "108 regent street city centre cb21dp\n",
      "\n",
      "the entrance fee is free\n",
      "\n",
      "b, price = inexpensive ) } | booking { inform ( none = none ) } and there are a few options. the alexander b and b has free parking and internet. it is inexpensive. would you like to book a room?\n",
      "\n",
      "the phone numbe\n",
      "\n",
      "the address i\n",
      "\n",
      "tr1744 will fit your needs.\n",
      "\n",
      "the phone numbe\n",
      "\n",
      "the phone numbe\n",
      "\n",
      "the phone numbe\n",
      "\n",
      "the phone numbe\n",
      "\n",
      "the phone numbe\n",
      "\n",
      "yes it has free internet\n",
      "\n",
      "thank you, goodbye!\n",
      "\n",
      "thank you, goodbye!\n",
      "\n",
      "thank you, goodbye!\n",
      "\n",
      "tr1668 will get you there by 14 : 08.\n",
      "\n",
      "i have\n",
      "\n",
      "nandos is cb17dy.\n",
      "\n",
      "i have tw\n",
      "\n",
      "tr1975 is the train id. would you like to book a ticket?\n",
      "\n",
      "i have tw\n",
      "\n",
      "the phone numbe\n",
      "\n",
      "b guest house, area = east, price = moderate - ly priced ) } and a and b guest house is located in the east. it is moderate - ly priced and has internet. their phone number is 01223315702 and postcode is cb12dp.\n",
      "\n",
      "the address i\n",
      "\n",
      "i\n",
      "\n",
      "it is 13. 28 pounds per ticket\n",
      "\n",
      "yes both do\n",
      "\n",
      "nusha is the postcode. cb17dy is the postcode.\n",
      "\n",
      "the address i\n",
      "\n",
      "the phone numbe\n",
      "\n",
      "tr2402 will arrive by 14 : 07. how many tickets do you need?\n",
      "\n",
      "it is 8. 08\n",
      "\n",
      "thank you, goodbye!\n",
      "\n",
      "it arrives at 11. 35\n",
      "\n",
      "tr6655 will arrive by 11 : 35. would that work for you?\n",
      "\n",
      "thank you, goodbye!\n",
      "\n",
      "tr8259 is your train id.\n",
      "\n",
      "thank you, goodbye!\n",
      "\n",
      "the address i\n",
      "\n",
      "tr0996 will arrive by 10 : 35, would that work for you?\n",
      "\n",
      "thank you, goodbye!\n",
      "\n",
      "the address i\n",
      "\n",
      "the phone numbe\n",
      "\n",
      "how many people and for how many days?\n",
      "\n",
      "for how many nights?\n",
      "\n",
      "i have\n",
      "\n",
      "b, price = inexpensive ) } | booking { inform ( none = none ) } and alexander b and b is an inexpensive, 4 star, guest house with free wifi and free parking. would you like to book a room?\n",
      "\n",
      "there are 3 options available to you\n",
      "\n",
      "i have\n",
      "\n",
      "thank you, goodbye!\n",
      "\n",
      "the tr7745 will get you there at 07 : 52.\n",
      "\n",
      "for how many nights?\n",
      "\n",
      "it is in the centre of town\n",
      "\n",
      "the address i\n",
      "\n",
      "i\n",
      "\n",
      "thank you, goodbye!\n",
      "\n",
      "when do you want to leave by?\n",
      "\n",
      "i\n",
      "\n",
      "i\n",
      "\n",
      "thank you, goodbye!\n",
      "\n",
      "tr3259 leaves at 6. 10\n",
      "\n",
      "tr3279 will leave at 09 : 01 and arrive at 10 : 01. will that work for you?\n",
      "\n",
      "the address fo\n",
      "\n",
      "the address i\n",
      "\n",
      "train tr2145 is available.\n",
      "\n",
      "b ) } and the alexander b and b is a guesthouse. would you like me to book it for you?\n",
      "\n",
      "tr7397 is your train id.\n",
      "\n",
      "there are many african restaurant - s in town\n",
      "\n",
      "tr6473 leaves at 11 : 54 and arrives at 12 : 43. the travel time is 49 minutes.\n",
      "\n",
      "i would recommend architecture\n",
      "\n",
      "tr1159 leaves at 11 : 50 and arrives at 12 : 07.\n",
      "\n",
      "it is an italian restaurant\n",
      "\n",
      "i have 4 options for you\n",
      "\n",
      "breakfast ) } and i would suggest the carolina bed and breakfast. would you like me to book it?\n",
      "\n",
      "the carolina bed and breakfast does have free parking\n",
      "\n",
      "thompsons lane fen ditton\n",
      "\n",
      "the broughton house gallery has no entrance fee\n",
      "\n",
      "tr8932 leaves at 15 : 11\n",
      "\n",
      "milton country park milton road milton country park milton country park milton\n",
      "\n",
      "there is a cinema, a museum, a theatre, a park, a nightclub, a college, a park, a museum, a restaurant, or there is\n",
      "\n",
      "i\n",
      "\n",
      "thank you, goodbye!\n",
      "\n"
     ]
    }
   ],
   "source": [
    "for elem in df.sentence:\n",
    "    print(elem + '\\n')"
   ]
  },
  {
   "cell_type": "markdown",
   "metadata": {},
   "source": [
    "# SC-GPT evaluation"
   ]
  },
  {
   "cell_type": "code",
   "execution_count": 8,
   "metadata": {},
   "outputs": [
    {
     "name": "stderr",
     "output_type": "stream",
     "text": [
      "/opt/conda/lib/python3.7/site-packages/torchtext/data/iterator.py:48: UserWarning: Iterator class will be retired in the 0.8.0 release and moved to torchtext.legacy. Please see 0.7.0 release notes for further information.\n",
      "  warnings.warn('{} class will be retired in the 0.8.0 release and moved to torchtext.legacy. Please see 0.7.0 release notes for further information.'.format(self.__class__.__name__), UserWarning)\n"
     ]
    }
   ],
   "source": [
    "# Load SC-GPT Results to evaluate coherence\n",
    "tokenizer = BertTokenizer.from_pretrained('bert-base-uncased')\n",
    "device = torch.device(\"cuda\" if torch.cuda.is_available() else \"cpu\")\n",
    "# Model parameter\n",
    "MAX_SEQ_LEN = 128\n",
    "PAD_INDEX = tokenizer.convert_tokens_to_ids(tokenizer.pad_token)\n",
    "UNK_INDEX = tokenizer.convert_tokens_to_ids(tokenizer.unk_token)\n",
    "source_folder = 'sc_gpt'\n",
    "\n",
    "label_field = Field(sequential=False, use_vocab=False, batch_first=True, dtype=torch.float)\n",
    "text_field = Field(use_vocab=False, tokenize=tokenizer.encode, lower=False, include_lengths=False, batch_first=True,\n",
    "                   fix_length=MAX_SEQ_LEN, pad_token=PAD_INDEX, unk_token=UNK_INDEX)\n",
    "fields = [('text', text_field), ('label', label_field)]\n",
    "\n",
    "# TabularDataset\n",
    "\n",
    "test = TabularDataset.splits(path=source_folder, test='mw_sc_gpt_mixed.csv', format='CSV', fields=fields, skip_header=True)\n",
    "\n",
    "# Iterators\n",
    "\n",
    "test_iter = Iterator(test[0], batch_size=64, device=device, train=False, shuffle=False, sort=False)"
   ]
  },
  {
   "cell_type": "code",
   "execution_count": 10,
   "metadata": {},
   "outputs": [
    {
     "name": "stderr",
     "output_type": "stream",
     "text": [
      "Some weights of the model checkpoint at bert-base-uncased were not used when initializing BertForSequenceClassification: ['cls.predictions.bias', 'cls.predictions.transform.dense.weight', 'cls.predictions.transform.dense.bias', 'cls.predictions.decoder.weight', 'cls.seq_relationship.weight', 'cls.seq_relationship.bias', 'cls.predictions.transform.LayerNorm.weight', 'cls.predictions.transform.LayerNorm.bias']\n",
      "- This IS expected if you are initializing BertForSequenceClassification from the checkpoint of a model trained on another task or with another architecture (e.g. initializing a BertForSequenceClassification model from a BertForPretraining model).\n",
      "- This IS NOT expected if you are initializing BertForSequenceClassification from the checkpoint of a model that you expect to be exactly identical (initializing a BertForSequenceClassification model from a BertForSequenceClassification model).\n",
      "Some weights of BertForSequenceClassification were not initialized from the model checkpoint at bert-base-uncased and are newly initialized: ['classifier.weight', 'classifier.bias']\n",
      "You should probably TRAIN this model on a down-stream task to be able to use it for predictions and inference.\n"
     ]
    },
    {
     "name": "stdout",
     "output_type": "stream",
     "text": [
      "Model loaded from <== bert_gpt_lm_new/model.pt\n"
     ]
    },
    {
     "data": {
      "application/vnd.jupyter.widget-view+json": {
       "model_id": "ddd3df5dba0149efbe738725d5af14c7",
       "version_major": 2,
       "version_minor": 0
      },
      "text/plain": [
       "HBox(children=(FloatProgress(value=0.0, description='Testing examples', max=231.0, style=ProgressStyle(descrip…"
      ]
     },
     "metadata": {},
     "output_type": "display_data"
    },
    {
     "name": "stderr",
     "output_type": "stream",
     "text": [
      "/opt/conda/lib/python3.7/site-packages/torchtext/data/batch.py:23: UserWarning: Batch class will be retired in the 0.8.0 release and moved to torchtext.legacy. Please see 0.7.0 release notes for further information.\n",
      "  warnings.warn('{} class will be retired in the 0.8.0 release and moved to torchtext.legacy. Please see 0.7.0 release notes for further information.'.format(self.__class__.__name__), UserWarning)\n"
     ]
    },
    {
     "name": "stdout",
     "output_type": "stream",
     "text": [
      "\n",
      "Classification Report:\n",
      "              precision    recall  f1-score   support\n",
      "\n",
      "           1     0.5015    0.9535    0.6573      7372\n",
      "           0     0.5288    0.0522    0.0951      7372\n",
      "\n",
      "    accuracy                         0.5028     14744\n",
      "   macro avg     0.5152    0.5028    0.3762     14744\n",
      "weighted avg     0.5152    0.5028    0.3762     14744\n",
      "\n"
     ]
    },
    {
     "data": {
      "text/plain": [
       "[Text(0, 0.5, '1'), Text(0, 1.5, '0')]"
      ]
     },
     "execution_count": 10,
     "metadata": {},
     "output_type": "execute_result"
    },
    {
     "data": {
      "image/png": "[encoded data removed]",
      "text/plain": [
       "<Figure size 432x288 with 2 Axes>"
      ]
     },
     "metadata": {
      "needs_background": "light"
     },
     "output_type": "display_data"
    }
   ],
   "source": [
    "destination_folder = 'bert_gpt_lm_new'\n",
    "#load model and send it to the GPU\n",
    "#device = torch.device(\"cuda\" if torch.cuda.is_available() else \"cpu\")\n",
    "model = BERT().to(device)\n",
    "\n",
    "#load the checkpoint\n",
    "load_checkpoint(destination_folder + '/model.pt', model)\n",
    "\n",
    "#evaluate\n",
    "y_pred = []\n",
    "y_true = []\n",
    "x_text = []\n",
    "model.eval()\n",
    "with torch.no_grad():\n",
    "    for (text, labels), _ in tqdm(test_iter, desc='Testing examples'):\n",
    "            labels = labels.type(torch.LongTensor)           \n",
    "            labels = labels.to(device)\n",
    "            text = text.type(torch.LongTensor)  \n",
    "            text = text.to(device)\n",
    "            output = model(text, labels)\n",
    "\n",
    "            _, output = output\n",
    "            x_text.extend(text.tolist())\n",
    "            y_pred.extend(torch.argmax(output, 1).tolist())\n",
    "            y_true.extend(labels.tolist())\n",
    "\n",
    "print('Classification Report:')\n",
    "print(classification_report(y_true, y_pred, labels=[1,0], digits=4))\n",
    "\n",
    "cm = confusion_matrix(y_true, y_pred, labels=[1,0])\n",
    "ax= plt.subplot()\n",
    "sns.heatmap(cm, annot=True, ax = ax, cmap='Blues', fmt=\"d\")\n",
    "\n",
    "ax.set_title('Confusion Matrix')\n",
    "\n",
    "ax.set_xlabel('Predicted Labels')\n",
    "ax.set_ylabel('True Labels')\n",
    "\n",
    "ax.xaxis.set_ticklabels(['1', '0'])\n",
    "ax.yaxis.set_ticklabels(['1', '0'])"
   ]
  },
  {
   "cell_type": "code",
   "execution_count": 59,
   "metadata": {},
   "outputs": [
    {
     "data": {
      "text/html": [
       "<div>\n",
       "<style scoped>\n",
       "    .dataframe tbody tr th:only-of-type {\n",
       "        vertical-align: middle;\n",
       "    }\n",
       "\n",
       "    .dataframe tbody tr th {\n",
       "        vertical-align: top;\n",
       "    }\n",
       "\n",
       "    .dataframe thead th {\n",
       "        text-align: right;\n",
       "    }\n",
       "</style>\n",
       "<table border=\"1\" class=\"dataframe\">\n",
       "  <thead>\n",
       "    <tr style=\"text-align: right;\">\n",
       "      <th></th>\n",
       "      <th>text</th>\n",
       "      <th>y_pred</th>\n",
       "      <th>y_true</th>\n",
       "      <th>sentence</th>\n",
       "    </tr>\n",
       "  </thead>\n",
       "  <tbody>\n",
       "    <tr>\n",
       "      <th>22</th>\n",
       "      <td>[101, 4067, 2017, 1010, 9119, 999, 102, 0, 0, ...</td>\n",
       "      <td>0</td>\n",
       "      <td>1</td>\n",
       "      <td>thank you, goodbye!</td>\n",
       "    </tr>\n",
       "    <tr>\n",
       "      <th>27</th>\n",
       "      <td>[101, 2073, 2024, 2017, 2975, 2013, 1029, 102,...</td>\n",
       "      <td>0</td>\n",
       "      <td>1</td>\n",
       "      <td>where are you leaving from?</td>\n",
       "    </tr>\n",
       "    <tr>\n",
       "      <th>54</th>\n",
       "      <td>[101, 1996, 5700, 3345, 3727, 2012, 2459, 1024...</td>\n",
       "      <td>0</td>\n",
       "      <td>1</td>\n",
       "      <td>the earliest train leaves at 17 : 00</td>\n",
       "    </tr>\n",
       "    <tr>\n",
       "      <th>114</th>\n",
       "      <td>[101, 4067, 2017, 1010, 9119, 999, 102, 0, 0, ...</td>\n",
       "      <td>0</td>\n",
       "      <td>1</td>\n",
       "      <td>thank you, goodbye!</td>\n",
       "    </tr>\n",
       "    <tr>\n",
       "      <th>135</th>\n",
       "      <td>[101, 1045, 102, 0, 0, 0, 0, 0, 0, 0, 0, 0, 0,...</td>\n",
       "      <td>0</td>\n",
       "      <td>1</td>\n",
       "      <td>i</td>\n",
       "    </tr>\n",
       "    <tr>\n",
       "      <th>...</th>\n",
       "      <td>...</td>\n",
       "      <td>...</td>\n",
       "      <td>...</td>\n",
       "      <td>...</td>\n",
       "    </tr>\n",
       "    <tr>\n",
       "      <th>7246</th>\n",
       "      <td>[101, 19817, 2620, 2683, 16703, 3727, 2012, 23...</td>\n",
       "      <td>0</td>\n",
       "      <td>1</td>\n",
       "      <td>tr8932 leaves at 15 : 11</td>\n",
       "    </tr>\n",
       "    <tr>\n",
       "      <th>7254</th>\n",
       "      <td>[101, 9660, 2406, 2380, 9660, 2346, 9660, 2406...</td>\n",
       "      <td>0</td>\n",
       "      <td>1</td>\n",
       "      <td>milton country park milton road milton country...</td>\n",
       "    </tr>\n",
       "    <tr>\n",
       "      <th>7260</th>\n",
       "      <td>[101, 2045, 2003, 1037, 5988, 1010, 1037, 2688...</td>\n",
       "      <td>0</td>\n",
       "      <td>1</td>\n",
       "      <td>there is a cinema, a museum, a theatre, a park...</td>\n",
       "    </tr>\n",
       "    <tr>\n",
       "      <th>7266</th>\n",
       "      <td>[101, 1045, 102, 0, 0, 0, 0, 0, 0, 0, 0, 0, 0,...</td>\n",
       "      <td>0</td>\n",
       "      <td>1</td>\n",
       "      <td>i</td>\n",
       "    </tr>\n",
       "    <tr>\n",
       "      <th>7286</th>\n",
       "      <td>[101, 4067, 2017, 1010, 9119, 999, 102, 0, 0, ...</td>\n",
       "      <td>0</td>\n",
       "      <td>1</td>\n",
       "      <td>thank you, goodbye!</td>\n",
       "    </tr>\n",
       "  </tbody>\n",
       "</table>\n",
       "<p>214 rows × 4 columns</p>\n",
       "</div>"
      ],
      "text/plain": [
       "                                                   text  y_pred  y_true  \\\n",
       "22    [101, 4067, 2017, 1010, 9119, 999, 102, 0, 0, ...       0       1   \n",
       "27    [101, 2073, 2024, 2017, 2975, 2013, 1029, 102,...       0       1   \n",
       "54    [101, 1996, 5700, 3345, 3727, 2012, 2459, 1024...       0       1   \n",
       "114   [101, 4067, 2017, 1010, 9119, 999, 102, 0, 0, ...       0       1   \n",
       "135   [101, 1045, 102, 0, 0, 0, 0, 0, 0, 0, 0, 0, 0,...       0       1   \n",
       "...                                                 ...     ...     ...   \n",
       "7246  [101, 19817, 2620, 2683, 16703, 3727, 2012, 23...       0       1   \n",
       "7254  [101, 9660, 2406, 2380, 9660, 2346, 9660, 2406...       0       1   \n",
       "7260  [101, 2045, 2003, 1037, 5988, 1010, 1037, 2688...       0       1   \n",
       "7266  [101, 1045, 102, 0, 0, 0, 0, 0, 0, 0, 0, 0, 0,...       0       1   \n",
       "7286  [101, 4067, 2017, 1010, 9119, 999, 102, 0, 0, ...       0       1   \n",
       "\n",
       "                                               sentence  \n",
       "22                                  thank you, goodbye!  \n",
       "27                          where are you leaving from?  \n",
       "54                 the earliest train leaves at 17 : 00  \n",
       "114                                 thank you, goodbye!  \n",
       "135                                                   i  \n",
       "...                                                 ...  \n",
       "7246                           tr8932 leaves at 15 : 11  \n",
       "7254  milton country park milton road milton country...  \n",
       "7260  there is a cinema, a museum, a theatre, a park...  \n",
       "7266                                                  i  \n",
       "7286                                thank you, goodbye!  \n",
       "\n",
       "[214 rows x 4 columns]"
      ]
     },
     "execution_count": 59,
     "metadata": {},
     "output_type": "execute_result"
    }
   ],
   "source": [
    "df_sc = pd.DataFrame(zip(x_text,y_pred,y_true), columns=['text', 'y_pred', 'y_true'])\n",
    "df_sc = df_sc[(df_sc['y_pred'] == 0) & (df['y_true'] == 1)]\n",
    "df_sc['sentence'] = df_sc.text.map(lambda x: convert_ids_to_sentence(x, tokenizer))\n",
    "df_sc"
   ]
  },
  {
   "cell_type": "markdown",
   "metadata": {},
   "source": [
    "# HDSA coherence classification"
   ]
  },
  {
   "cell_type": "code",
   "execution_count": 66,
   "metadata": {},
   "outputs": [],
   "source": [
    "\n",
    "# Load SC-GPT Results to evaluate coherence\n",
    "#tokenizer = BertTokenizer.from_pretrained('bert-base-uncased')\n",
    "\n",
    "# Model parameter\n",
    "MAX_SEQ_LEN = 128\n",
    "PAD_INDEX = tokenizer.convert_tokens_to_ids(tokenizer.pad_token)\n",
    "UNK_INDEX = tokenizer.convert_tokens_to_ids(tokenizer.unk_token)\n",
    "source_folder = 'hdsa'\n",
    "\n",
    "label_field = Field(sequential=False, use_vocab=False, batch_first=True, dtype=torch.float)\n",
    "text_field = Field(use_vocab=False, tokenize=tokenizer.encode, lower=False, include_lengths=False, batch_first=True,\n",
    "                   fix_length=MAX_SEQ_LEN, pad_token=PAD_INDEX, unk_token=UNK_INDEX)\n",
    "fields = [('text', text_field), ('label', label_field)]\n",
    "\n",
    "# TabularDataset\n",
    "\n",
    "test = TabularDataset.splits(path=source_folder, test='test_hdsa.csv', format='CSV', fields=fields, skip_header=True)\n",
    "\n",
    "# Iterators\n",
    "\n",
    "test_iter = Iterator(test[0], batch_size=16, device=device, train=False, shuffle=False, sort=False)"
   ]
  },
  {
   "cell_type": "code",
   "execution_count": 67,
   "metadata": {},
   "outputs": [
    {
     "data": {
      "application/vnd.jupyter.widget-view+json": {
       "model_id": "223558810dce490c9b4bc6ec852cf62d",
       "version_major": 2,
       "version_minor": 0
      },
      "text/plain": [
       "HBox(children=(FloatProgress(value=0.0, description='Testing examples', max=461.0, style=ProgressStyle(descrip…"
      ]
     },
     "metadata": {},
     "output_type": "display_data"
    },
    {
     "name": "stdout",
     "output_type": "stream",
     "text": [
      "\n",
      "Classification Report:\n",
      "              precision    recall  f1-score   support\n",
      "\n",
      "           1     1.0000    0.9984    0.9992      7372\n",
      "           0     0.0000    0.0000    0.0000         0\n",
      "\n",
      "    accuracy                         0.9984      7372\n",
      "   macro avg     0.5000    0.4992    0.4996      7372\n",
      "weighted avg     1.0000    0.9984    0.9992      7372\n",
      "\n"
     ]
    },
    {
     "data": {
      "text/plain": [
       "[Text(0, 0.5, '1'), Text(0, 1.5, '0')]"
      ]
     },
     "execution_count": 67,
     "metadata": {},
     "output_type": "execute_result"
    },
    {
     "data": {
      "image/png": "[encoded data removed]",
      "text/plain": [
       "<Figure size 432x288 with 2 Axes>"
      ]
     },
     "metadata": {
      "needs_background": "light"
     },
     "output_type": "display_data"
    }
   ],
   "source": [
    "destination_folder = 'output_mixed_new'\n",
    "#load model and send it to the GPU\n",
    "#device = torch.device(\"cuda\" if torch.cuda.is_available() else \"cpu\")\n",
    "#model = BERT().to(device)\n",
    "\n",
    "#load the checkpoint\n",
    "#load_checkpoint(destination_folder + '/model.pt', best_model)\n",
    "\n",
    "#evaluate\n",
    "y_pred = []\n",
    "y_true = []\n",
    "x_text = []\n",
    "model.eval()\n",
    "with torch.no_grad():\n",
    "    for (text, labels), _ in tqdm(test_iter, desc='Testing examples'):\n",
    "            labels = labels.type(torch.LongTensor)           \n",
    "            labels = labels.to(device)\n",
    "            text = text.type(torch.LongTensor)  \n",
    "            text = text.to(device)\n",
    "            output = model(text, labels)\n",
    "\n",
    "            _, output = output\n",
    "            x_text.extend(text.tolist())\n",
    "            y_pred.extend(torch.argmax(output, 1).tolist())\n",
    "            y_true.extend(labels.tolist())\n",
    "\n",
    "print('Classification Report:')\n",
    "print(classification_report(y_true, y_pred, labels=[1,0], digits=4))\n",
    "\n",
    "cm = confusion_matrix(y_true, y_pred, labels=[1,0])\n",
    "ax= plt.subplot()\n",
    "sns.heatmap(cm, annot=True, ax = ax, cmap='Blues', fmt=\"d\")\n",
    "\n",
    "ax.set_title('Confusion Matrix')\n",
    "\n",
    "ax.set_xlabel('Predicted Labels')\n",
    "ax.set_ylabel('True Labels')\n",
    "\n",
    "ax.xaxis.set_ticklabels(['1', '0'])\n",
    "ax.yaxis.set_ticklabels(['1', '0'])"
   ]
  },
  {
   "cell_type": "code",
   "execution_count": 82,
   "metadata": {},
   "outputs": [
    {
     "data": {
      "text/plain": [
       "(22, 4)"
      ]
     },
     "execution_count": 82,
     "metadata": {},
     "output_type": "execute_result"
    }
   ],
   "source": [
    "df_hdsa = pd.DataFrame(zip(x_text,y_pred,y_true), columns=['text', 'y_pred', 'y_true'])\n",
    "df_hdsa = df_hdsa[(df_hdsa['y_pred'] == 0) & (df_hdsa['y_true'] == 1)]\n",
    "df_hdsa['sentence'] = df_hdsa.text.map(lambda x: convert_ids_to_sentence(x, tokenizer))\n"
   ]
  },
  {
   "cell_type": "markdown",
   "metadata": {},
   "source": [
    "# Classification LSTM LM"
   ]
  },
  {
   "cell_type": "code",
   "execution_count": 6,
   "metadata": {},
   "outputs": [],
   "source": [
    "tokenizer = BertTokenizer.from_pretrained('bert-base-uncased')\n",
    "\n",
    "device = torch.device(\"cuda\" if torch.cuda.is_available() else \"cpu\")\n",
    "\n",
    "# Model parameter\n",
    "MAX_SEQ_LEN = 128\n",
    "PAD_INDEX = tokenizer.convert_tokens_to_ids(tokenizer.pad_token)\n",
    "UNK_INDEX = tokenizer.convert_tokens_to_ids(tokenizer.unk_token)\n",
    "source_folder = 'lm_lstm'\n",
    "\n",
    "label_field = Field(sequential=False, use_vocab=False, batch_first=True, dtype=torch.float)\n",
    "text_field = Field(use_vocab=False, tokenize=tokenizer.encode, lower=False, include_lengths=False, batch_first=True,\n",
    "                   fix_length=MAX_SEQ_LEN, pad_token=PAD_INDEX, unk_token=UNK_INDEX)\n",
    "fields = [('text', text_field), ('label', label_field)]\n",
    "\n",
    "# TabularDataset\n",
    "\n",
    "train, valid, test = TabularDataset.splits(path=source_folder, train='train_lstm_generated_new.csv', validation='valid_lstm_generated_new.csv',\n",
    "                                           test='test_lstm_generated_new.csv', format='CSV', fields=fields, skip_header=True)\n",
    "\n",
    "# Iterators\n",
    "\n",
    "train_iter = BucketIterator(train, batch_size=64, sort_key=lambda x: len(x.text),\n",
    "                            device=device, train=True, sort=True, sort_within_batch=True)\n",
    "valid_iter = BucketIterator(valid, batch_size=64, sort_key=lambda x: len(x.text),\n",
    "                            device=device, train=True, sort=True, sort_within_batch=True)\n",
    "test_iter = Iterator(test, batch_size=64, device=device, train=False, shuffle=False, sort=False)"
   ]
  },
  {
   "cell_type": "code",
   "execution_count": 10,
   "metadata": {},
   "outputs": [
    {
     "name": "stderr",
     "output_type": "stream",
     "text": [
      "Some weights of the model checkpoint at bert-base-uncased were not used when initializing BertForSequenceClassification: ['cls.predictions.bias', 'cls.predictions.transform.dense.weight', 'cls.predictions.transform.dense.bias', 'cls.predictions.decoder.weight', 'cls.seq_relationship.weight', 'cls.seq_relationship.bias', 'cls.predictions.transform.LayerNorm.weight', 'cls.predictions.transform.LayerNorm.bias']\n",
      "- This IS expected if you are initializing BertForSequenceClassification from the checkpoint of a model trained on another task or with another architecture (e.g. initializing a BertForSequenceClassification model from a BertForPretraining model).\n",
      "- This IS NOT expected if you are initializing BertForSequenceClassification from the checkpoint of a model that you expect to be exactly identical (initializing a BertForSequenceClassification model from a BertForSequenceClassification model).\n",
      "Some weights of BertForSequenceClassification were not initialized from the model checkpoint at bert-base-uncased and are newly initialized: ['classifier.weight', 'classifier.bias']\n",
      "You should probably TRAIN this model on a down-stream task to be able to use it for predictions and inference.\n"
     ]
    },
    {
     "name": "stdout",
     "output_type": "stream",
     "text": [
      "Model loaded from <== bert_lstm_lm/model.pt\n"
     ]
    },
    {
     "data": {
      "application/vnd.jupyter.widget-view+json": {
       "model_id": "0974165120d141a791ce442650d58221",
       "version_major": 2,
       "version_minor": 0
      },
      "text/plain": [
       "HBox(children=(FloatProgress(value=0.0, description='epochs', max=1.0, style=ProgressStyle(description_width='…"
      ]
     },
     "metadata": {},
     "output_type": "display_data"
    },
    {
     "data": {
      "application/vnd.jupyter.widget-view+json": {
       "model_id": "7b3738e78dc8413788edf67dd1aeb026",
       "version_major": 2,
       "version_minor": 0
      },
      "text/plain": [
       "HBox(children=(FloatProgress(value=0.0, description='training examples', max=1775.0, style=ProgressStyle(descr…"
      ]
     },
     "metadata": {},
     "output_type": "display_data"
    },
    {
     "name": "stdout",
     "output_type": "stream",
     "text": [
      "Epoch [1/1], Step [887/1775], Train Loss: 0.5532, Valid Loss: 0.5459\n",
      "Model saved to ==> bert_lstm_lm/model.pt\n",
      "Model saved to ==> bert_lstm_lm/metrics.pt\n",
      "Epoch [1/1], Step [1774/1775], Train Loss: 0.3594, Valid Loss: 0.6507\n",
      "\n",
      "\n",
      "Model saved to ==> bert_lstm_lm/metrics.pt\n",
      "Finished Training!\n"
     ]
    }
   ],
   "source": [
    "\n",
    "# Training Function\n",
    "destination_folder = 'bert_lstm_lm'\n",
    "def train(model,\n",
    "          optimizer,\n",
    "          criterion = nn.BCELoss(),\n",
    "          train_loader = train_iter,\n",
    "          valid_loader = valid_iter,\n",
    "          num_epochs = 1,\n",
    "          eval_every = len(train_iter) // 2,\n",
    "          file_path = destination_folder,\n",
    "          best_valid_loss = float(\"Inf\")):\n",
    "    \n",
    "    # initialize running values\n",
    "    running_loss = 0.0\n",
    "    valid_running_loss = 0.0\n",
    "    global_step = 0\n",
    "    train_loss_list = []\n",
    "    valid_loss_list = []\n",
    "    global_steps_list = []\n",
    "\n",
    "    # training loop\n",
    "    model.train()\n",
    "    for epoch in tqdm(range(num_epochs), desc='epochs'):\n",
    "        for (text, labels), _ in tqdm(train_loader, desc='training examples'):\n",
    "            labels = labels.type(torch.LongTensor)           \n",
    "            labels = labels.to(device)\n",
    "            text = text.type(torch.LongTensor)  \n",
    "            text = text.to(device)\n",
    "            output = model(text, labels)\n",
    "            loss, _ = output\n",
    "\n",
    "            optimizer.zero_grad()\n",
    "            loss.backward()\n",
    "            optimizer.step()\n",
    "\n",
    "            # update running values\n",
    "            running_loss += loss.item()\n",
    "            global_step += 1\n",
    "\n",
    "            # evaluation step\n",
    "            if global_step % eval_every == 0:\n",
    "                model.eval()\n",
    "                with torch.no_grad():                    \n",
    "\n",
    "                    # validation loop\n",
    "                    for (text, labels), _ in valid_loader:\n",
    "                        labels = labels.type(torch.LongTensor)           \n",
    "                        labels = labels.to(device)\n",
    "                        text = text.type(torch.LongTensor)  \n",
    "                        text = text.to(device)\n",
    "                        output = model(text, labels)\n",
    "                        loss, _ = output\n",
    "                        \n",
    "                        valid_running_loss += loss.item()\n",
    "\n",
    "                # evaluation\n",
    "                average_train_loss = running_loss / eval_every\n",
    "                average_valid_loss = valid_running_loss / len(valid_loader)\n",
    "                train_loss_list.append(average_train_loss)\n",
    "                valid_loss_list.append(average_valid_loss)\n",
    "                global_steps_list.append(global_step)\n",
    "\n",
    "                # resetting running values\n",
    "                running_loss = 0.0                \n",
    "                valid_running_loss = 0.0\n",
    "                model.train()\n",
    "\n",
    "                # print progress\n",
    "                print('Epoch [{}/{}], Step [{}/{}], Train Loss: {:.4f}, Valid Loss: {:.4f}'\n",
    "                      .format(epoch+1, num_epochs, global_step, num_epochs*len(train_loader),\n",
    "                              average_train_loss, average_valid_loss))\n",
    "                \n",
    "                # checkpoint\n",
    "                if best_valid_loss > average_valid_loss:\n",
    "                    best_valid_loss = average_valid_loss\n",
    "                    save_checkpoint(file_path + '/' + 'model.pt', model, best_valid_loss)\n",
    "                    save_metrics(file_path + '/' + 'metrics.pt', train_loss_list, valid_loss_list, global_steps_list)\n",
    "    \n",
    "    save_metrics(file_path + '/' + 'metrics.pt', train_loss_list, valid_loss_list, global_steps_list)\n",
    "    print('Finished Training!')\n",
    "\n",
    "model = BERT().to(device)\n",
    "optimizer = optim.Adam(model.parameters(), lr=2e-5)\n",
    "load_checkpoint(destination_folder + '/model.pt', model)\n",
    "\n",
    "train(model=model, optimizer=optimizer)"
   ]
  },
  {
   "cell_type": "code",
   "execution_count": 11,
   "metadata": {},
   "outputs": [
    {
     "name": "stdout",
     "output_type": "stream",
     "text": [
      "Model loaded from <== bert_lstm_lm/metrics.pt\n"
     ]
    },
    {
     "data": {
      "image/png": "[encoded data removed]",
      "text/plain": [
       "<Figure size 432x288 with 1 Axes>"
      ]
     },
     "metadata": {
      "needs_background": "light"
     },
     "output_type": "display_data"
    }
   ],
   "source": [
    "destination_folder = 'bert_lstm_lm'\n",
    "train_loss_list, valid_loss_list, global_steps_list = load_metrics(destination_folder + '/metrics.pt')\n",
    "plt.plot(global_steps_list, train_loss_list, label='Train')\n",
    "plt.plot(global_steps_list, valid_loss_list, label='Valid')\n",
    "plt.xlabel('Global Steps')\n",
    "plt.ylabel('Loss')\n",
    "plt.legend()\n",
    "plt.show() "
   ]
  },
  {
   "cell_type": "code",
   "execution_count": 14,
   "metadata": {},
   "outputs": [
    {
     "name": "stderr",
     "output_type": "stream",
     "text": [
      "Some weights of the model checkpoint at bert-base-uncased were not used when initializing BertForSequenceClassification: ['cls.predictions.bias', 'cls.predictions.transform.dense.weight', 'cls.predictions.transform.dense.bias', 'cls.predictions.decoder.weight', 'cls.seq_relationship.weight', 'cls.seq_relationship.bias', 'cls.predictions.transform.LayerNorm.weight', 'cls.predictions.transform.LayerNorm.bias']\n",
      "- This IS expected if you are initializing BertForSequenceClassification from the checkpoint of a model trained on another task or with another architecture (e.g. initializing a BertForSequenceClassification model from a BertForPretraining model).\n",
      "- This IS NOT expected if you are initializing BertForSequenceClassification from the checkpoint of a model that you expect to be exactly identical (initializing a BertForSequenceClassification model from a BertForSequenceClassification model).\n",
      "Some weights of BertForSequenceClassification were not initialized from the model checkpoint at bert-base-uncased and are newly initialized: ['classifier.weight', 'classifier.bias']\n",
      "You should probably TRAIN this model on a down-stream task to be able to use it for predictions and inference.\n"
     ]
    },
    {
     "data": {
      "application/vnd.jupyter.widget-view+json": {
       "model_id": "fa06a4bf45e44410b1881183cafc379f",
       "version_major": 2,
       "version_minor": 0
      },
      "text/plain": [
       "HBox(children=(FloatProgress(value=0.0, description='Testing examples', max=231.0, style=ProgressStyle(descrip…"
      ]
     },
     "metadata": {},
     "output_type": "display_data"
    },
    {
     "name": "stdout",
     "output_type": "stream",
     "text": [
      "\n",
      "Classification Report:\n",
      "              precision    recall  f1-score   support\n",
      "\n",
      "           1     0.4366    0.0042    0.0083      7372\n",
      "           0     0.4997    0.9946    0.6652      7372\n",
      "\n",
      "    accuracy                         0.4994     14744\n",
      "   macro avg     0.4682    0.4994    0.3368     14744\n",
      "weighted avg     0.4682    0.4994    0.3368     14744\n",
      "\n"
     ]
    },
    {
     "data": {
      "image/png": "[encoded data removed]",
      "text/plain": [
       "<Figure size 432x288 with 2 Axes>"
      ]
     },
     "metadata": {
      "needs_background": "light"
     },
     "output_type": "display_data"
    }
   ],
   "source": [
    "device = torch.device(\"cuda\" if torch.cuda.is_available() else \"cpu\")\n",
    "model = BERT().to(device)\n",
    "#destination_folder = 'bert_lstm_lm'\n",
    "#load the checkpoint\n",
    "#load_checkpoint(destination_folder + '/model.pt', model)\n",
    "\n",
    "x_text, y_pred, y_true = evaluate(model, test_iter)"
   ]
  },
  {
   "cell_type": "code",
   "execution_count": 15,
   "metadata": {},
   "outputs": [],
   "source": [
    "tokenizer = AutoTokenizer.from_pretrained('bert-base-uncased')\n",
    "\n",
    "# Model parameter\n",
    "MAX_SEQ_LEN = 128\n",
    "PAD_INDEX = tokenizer.convert_tokens_to_ids(tokenizer.pad_token)\n",
    "UNK_INDEX = tokenizer.convert_tokens_to_ids(tokenizer.unk_token)\n",
    "source_folder = 'sc_lstm'\n",
    "device = torch.device(\"cuda\" if torch.cuda.is_available() else \"cpu\")\n",
    "\n",
    "label_field = Field(sequential=False, use_vocab=False, batch_first=True, dtype=torch.float)\n",
    "text_field = Field(use_vocab=False, tokenize=tokenizer.encode, lower=False, include_lengths=False, batch_first=True,\n",
    "                   fix_length=MAX_SEQ_LEN, pad_token=PAD_INDEX, unk_token=UNK_INDEX)\n",
    "fields = [('text', text_field), ('label', label_field)]\n",
    "\n",
    "# TabularDataset\n",
    "\n",
    "test = TabularDataset.splits(path=source_folder, test='test_bert_sc_lstm_new.csv', format='CSV', fields=fields, skip_header=True)\n",
    "\n",
    "# Iterators\n",
    "\n",
    "test_iter = Iterator(test[0], batch_size=64, device=device, train=False, shuffle=False, sort=False)"
   ]
  },
  {
   "cell_type": "code",
   "execution_count": 16,
   "metadata": {},
   "outputs": [
    {
     "name": "stderr",
     "output_type": "stream",
     "text": [
      "Some weights of the model checkpoint at bert-base-uncased were not used when initializing BertForSequenceClassification: ['cls.predictions.bias', 'cls.predictions.transform.dense.weight', 'cls.predictions.transform.dense.bias', 'cls.predictions.decoder.weight', 'cls.seq_relationship.weight', 'cls.seq_relationship.bias', 'cls.predictions.transform.LayerNorm.weight', 'cls.predictions.transform.LayerNorm.bias']\n",
      "- This IS expected if you are initializing BertForSequenceClassification from the checkpoint of a model trained on another task or with another architecture (e.g. initializing a BertForSequenceClassification model from a BertForPretraining model).\n",
      "- This IS NOT expected if you are initializing BertForSequenceClassification from the checkpoint of a model that you expect to be exactly identical (initializing a BertForSequenceClassification model from a BertForSequenceClassification model).\n",
      "Some weights of BertForSequenceClassification were not initialized from the model checkpoint at bert-base-uncased and are newly initialized: ['classifier.weight', 'classifier.bias']\n",
      "You should probably TRAIN this model on a down-stream task to be able to use it for predictions and inference.\n"
     ]
    },
    {
     "name": "stdout",
     "output_type": "stream",
     "text": [
      "Model loaded from <== bert_lstm_lm/model.pt\n"
     ]
    },
    {
     "data": {
      "application/vnd.jupyter.widget-view+json": {
       "model_id": "0a51a10dd95d477b921233c181205688",
       "version_major": 2,
       "version_minor": 0
      },
      "text/plain": [
       "HBox(children=(FloatProgress(value=0.0, description='Testing examples', max=116.0, style=ProgressStyle(descrip…"
      ]
     },
     "metadata": {},
     "output_type": "display_data"
    },
    {
     "name": "stdout",
     "output_type": "stream",
     "text": [
      "\n",
      "Classification Report:\n",
      "              precision    recall  f1-score   support\n",
      "\n",
      "           1     0.0000    0.0000    0.0000         0\n",
      "           0     1.0000    0.7899    0.8826      7372\n",
      "\n",
      "    accuracy                         0.7899      7372\n",
      "   macro avg     0.5000    0.3949    0.4413      7372\n",
      "weighted avg     1.0000    0.7899    0.8826      7372\n",
      "\n"
     ]
    },
    {
     "data": {
      "image/png": "[encoded data removed]",
      "text/plain": [
       "<Figure size 432x288 with 2 Axes>"
      ]
     },
     "metadata": {
      "needs_background": "light"
     },
     "output_type": "display_data"
    }
   ],
   "source": [
    "destination_folder = 'bert_lstm_lm'\n",
    "model = BERT().to(device)\n",
    "device = torch.device(\"cuda\" if torch.cuda.is_available() else \"cpu\")\n",
    "\n",
    "load_checkpoint(destination_folder + '/model.pt', model)\n",
    "x_text, y_pred, y_true = evaluate(model, test_iter)"
   ]
  },
  {
   "cell_type": "code",
   "execution_count": null,
   "metadata": {},
   "outputs": [],
   "source": []
  }
 ],
 "metadata": {
  "kernelspec": {
   "display_name": "Python 3",
   "language": "python",
   "name": "python3"
  },
  "language_info": {
   "codemirror_mode": {
    "name": "ipython",
    "version": 3
   },
   "file_extension": ".py",
   "mimetype": "text/x-python",
   "name": "python",
   "nbconvert_exporter": "python",
   "pygments_lexer": "ipython3",
   "version": "3.7.6"
  }
 },
 "nbformat": 4,
 "nbformat_minor": 1
}
