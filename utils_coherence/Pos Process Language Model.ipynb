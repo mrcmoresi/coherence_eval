{
 "cells": [
  {
   "cell_type": "code",
   "execution_count": 1,
   "metadata": {},
   "outputs": [],
   "source": [
    "import pandas as pd\n",
    "import json\n",
    "import numpy as np"
   ]
  },
  {
   "cell_type": "code",
   "execution_count": 2,
   "metadata": {},
   "outputs": [],
   "source": [
    "import os"
   ]
  },
  {
   "cell_type": "code",
   "execution_count": 3,
   "metadata": {},
   "outputs": [],
   "source": [
    "fin = open('../lm_word_level/generated_lstm.txt')\n",
    "data = fin.read()"
   ]
  },
  {
   "cell_type": "code",
   "execution_count": 4,
   "metadata": {},
   "outputs": [],
   "source": [
    "lst = data.split('<eos>')"
   ]
  },
  {
   "cell_type": "code",
   "execution_count": 5,
   "metadata": {},
   "outputs": [
    {
     "data": {
      "text/plain": [
       "5468"
      ]
     },
     "execution_count": 5,
     "metadata": {},
     "output_type": "execute_result"
    }
   ],
   "source": [
    "len(lst)"
   ]
  },
  {
   "cell_type": "code",
   "execution_count": 7,
   "metadata": {},
   "outputs": [
    {
     "data": {
      "text/plain": [
       "['',\n",
       " 'i am sorry it does not have free parking but they are expensive .',\n",
       " 'there are no latin american restaurant -s in the centre of town . would you like me to check another area ?',\n",
       " 'i have 2 restaurant -s , one option for another type of town ?',\n",
       " 'yes i can direct you be reserved for a moderate -ly priced italian or price range ?',\n",
       " 'i highly suggest curry prince is an expensive indian restaurant instead .',\n",
       " 'i was able to look up in the south and a reservation at that reservation at this reservation at pizza hut city centre is pizza hut cherry hinton water play in the same options , sorry .',\n",
       " 'delicious mexican restaurant ?',\n",
       " 'yes , hamilton lodge hotel or bloomsbury hotel . would be more information or try cotto . would have tried the expensive asian oriental restaurant -s in the east ?',\n",
       " 'their number there are very welcome . what else about the phone in the north and is 01223367660 . would be paid at prezzo . do you like to try a little seoul is a reservation for you also have that type of food are moderate -ly priced and are expensive hotel or the postcode',\n",
       " 'booking was a blue volkswagen books seats reserved for 6 expensive hotel -s that be reached at 205 victoria avenue in a cheap italian restaurant and their phone number is 01799521260',\n",
       " 'the city ?',\n",
       " 'sure , is 01223355166 is 01223412299 anythig else ?',\n",
       " 'ok , is 01223247942',\n",
       " 'the west and the centre north . would you like me to try a blue ford .',\n",
       " 'what else for bangkok city centre , which u1bcckqx would be reserved , might be reached at 01223366611',\n",
       " 'qamdfu9o is 01799521260 and also restaurant -s in the centre and bangkok city centre .',\n",
       " 'great choice ?',\n",
       " 'how many days , what day ?',\n",
       " 'don was successful . would you looking for 5 people will be contacted at 01223355166 and the south . the north , with free parking and the curry prince and the table would you have a booking zo0089us and the restaurant or the centre of food and the city centre and the north . is 01223352607 in the centre north we be my apologies perhaps a grey ford contact number is 01223577786 is case you like the kymmoy at 01223323737 and the south and the centre area in the pizza express by 19:15 at pipasha restaurant ?',\n",
       " 'there are very much for you like a reservation for a yellow honda and the centre . what else without an expensive ones for a good bye . would you like for you like a yellow honda . want to be ok great food , in the city stop restaurant . did you need a modern european restaurant system gave to be picking this booking was a four starts and the cherry hinton village centre of food ?',\n",
       " 'the west side of town at 01223500005 of the phone number is called meghna , what else ?',\n",
       " 'no information for you like the address is 01223355166 . the contact number of town , or the river bar , they serve british restaurant ?',\n",
       " 'thank you like to be picking you are in the centre and they are located in the golden wok is 01223366552 in the hotpot . the postcode for one you a table there are no hotel -s on the main phone number for a success ! you like me to look up for your reservation at a few people will that is 01223518111',\n",
       " \"okay , if you like to pick you like to try city 's address on the west part of town , is 01223323361 at the restaurant -s for your price range or perhaps a nice day and their phone number and the address is 01223351880 is 169 high end of town . the contact number of food is 01799521260 . would you like to make a ticket . i can i have a red lexus , and the huntingdon marriott hotel -s are moderate -ly priced gastropub , they have a reservation for you need to book a black volkswagen taxi for you . it is 01223366611\",\n",
       " 'the address is 451 newmarket road , do you will be looking for a reservation ?',\n",
       " 'my favorite .',\n",
       " \"you like me to be reached at curry queen 's phone number for how else ?\",\n",
       " 'i hope you already been unsuccessful .',\n",
       " 'the address of food .',\n",
       " 'thank you .',\n",
       " 'their number ?',\n",
       " 'what area of town . should i check 01223452587 .',\n",
       " 'nandos for this time you are located at meghna , i help you are in the location -s located at the reservation for the reservation to book another cuisine you need a reservation and the reservation ?',\n",
       " 'enjoy your party of town',\n",
       " 'sorry , would you like to be good bye . shall i book the missing sock . would you the river phone number of restaurant alimentum for two located in town and your stay for your reservation for a table is 01223812660 . please call them at the nirala is 01223352607 and is 01223306283 british restaurant alimentum .',\n",
       " 'yes , the centre of town info for an expensive chinese restaurant or vice system is in the centre would you in the missing sock , i try and ask how many people and the cheap -er and enjoy your visit today ?',\n",
       " 'thank you there are located at g4 the restaurant -s , you',\n",
       " 'the americas price range , i try a great choices .',\n",
       " \"sure thing ! i'll be in the table will be willing to book you like to book it looks good luck ! it is 01223355166 place called thanh binh . was successful , their phone number is 01223323737 and the south is cb12qa\",\n",
       " 'is 01223355166 . would you like to make sure i know what type of town would you ?',\n",
       " 'their phone number is 01223241387 . what time . their food , the east part of cuisine ?',\n",
       " 'thank you and get a table for you have free parking , would you the restaurant -s in the reservation for gourmet burger kitchen and is 01223323737',\n",
       " 'it is none serve french food . would you a reservation on the table for your stay in the table for your reservation for your reservation and their address is 01223812660 serving indian restaurant -s .',\n",
       " 'their address is 01223511511 do you a few place -s in the scott polar museum in particular you . their location -s in the number is 01223400170 and the expensive place -s .',\n",
       " 'ok , can cambridge artworks is 01223353110 , hxymacbp and the number is within the nirala is 169 high 07860072749 ?',\n",
       " 'your reference number is 01223241387 and the centre , it is 01223241387 is 01223323737 and the north is 01223353110 or phone number , the reservation for a lot',\n",
       " 'thank you are in the dojo and the booking is 01223577786 is 01223241387',\n",
       " 'of town ?',\n",
       " 'if you a reservation at restaurant in the name . it is 01223351880',\n",
       " 'we could you for your stay in addition booked for cineworld cinema , could i be reached at that reservation for your fancy is 01223241387 is 01223241387 .',\n",
       " 'look for your meal at saigon city in the lucky star of town are moderate price range . were not a reservation system is 01223352607 and the centre .',\n",
       " 'the centre and you would you a blue honda ?',\n",
       " 'i book it will be of town would you are located at missing sock is 01223241387 and the city center it is 01223355166 , nandos , it has great food .',\n",
       " '5xdznnrc is cb43le the centre . they serve british restaurant reservation at cocum , both have a reservation though their postcode is 01223241387 . its phone number . would you would you reservation at da vinci pizzeria and the postcode is an expensive mexican restaurant you a table at the east part of the south and is 01223366611 food ?',\n",
       " 'great food . their phone number for a pleasure to look like that i book you a reservation ?',\n",
       " 'what day and the city centre and the moderate price range , their address is 01799521260 and your meal at the centre . i help desk , is 01223448620 for gourmet burger kitchen , a little seoul is 529 newmarket road , the north , and the east part of town ? do you and they have no entrance fee . would you like to be reached at 01223351880 is 01223366552 , the expensive food in another day ?',\n",
       " 'the oak bistro would you . do you there is 01223355166 at i5ze4aqv , but yes do not in the east but very popular city , they list is 01223355012 is 01223812660 for the east part of town you . its phone number instead of town if you , is 01223315232 .',\n",
       " 'i look for the restaurant -s from cambridge arts theatre , can i have no entertainment venue -s in the booking is 01223241387 is 01223357187 this date and the acorn guest house at 11:45 .',\n",
       " 'you are the reservation for 6 has no four people . their phone number is 01223353071 address ?',\n",
       " 'the car type would you there is 01223323737 and your table has excellent choice for dojo noodle bar is 01223360966 in the grafton centre . their number is 01223464630 . the center ? do not a reservation for your party of the paediatric include free mumford theatre , its moderate -ly priced and the west side of town ! they can contact number is 01223446104 , would you , their phone number is 01223323737 and their phone number of town do you prefer the restaurant serving you today is 01223241387',\n",
       " 'i expand the centre has both the golden wok is cb13nf , it is 01799521260 .',\n",
       " 'your question is 01223354382 sussex address is 01223323361 the river bar would you .',\n",
       " 'thank you are moderate -ly enjoy your stay in the phone 01223902091 rides will be sure that is 152154 hills road city center , their phone number is 01223351880 is 33-34 saint johns chop house at 11:00 between east , they serve spanish food please tell me to stay in the south part of the south end of town !',\n",
       " 'you ?',\n",
       " 'you have a reservation number is 01223241387 are both are cheap , it is 01223866800 . their address for using our system is 01223425478 . would be looking for a black ford and the south part of the east area and the junction theatre , would you need a success ! also serve british food . are quite nice day or royal standard , i do either have a table will be reached at 01223308871 expensive turkish restaurant alimentum reservation at saigon city centre and the nirala is 01223353942 their phone number i help with an expensive french restaurant alimentum that is 15-17 norman way cherry hinton and the river bar , would you have free parking and here is 01223351707',\n",
       " 'i do not a 3xm02ao1 be reached at g4 cambridge and moderate -ly price range -s , its phone number for two south and like to be reached at 03:45 are located in the river bar for the name is finders corner newmarket road , royal spice serves mexican food type of town .',\n",
       " 'it is 152154 hills road and the number is 35 criteriacurry , their phone number also goodbye .',\n",
       " 'book the moderate price range .',\n",
       " 'the south part of the centre . if you are located at ali baba , they need to make a reservation . would you ?',\n",
       " 'goodbye . would be reached at 68 histon road city centre at anglia looking for a reservation at 2124 northampton road city centre . would you are a good bye . can be forty-four the centre , their phone number is 01223351707 . would be met that sounds like to try the address is 01223304050 .',\n",
       " 'you ?',\n",
       " 'of town !',\n",
       " 'can i look for charlie chan , would you have a bed and at 19:00 for their phone number is 01223248882 . they are located at 01223577786 . can be happy to book you at bangkok city centre , but yes it is 01223448620 a reservation for jesus lane in the cheap and their phone number ?',\n",
       " 'i look for boats ?',\n",
       " 'golden wok , would you are wonderful restaurant reservation for you ?',\n",
       " 'phone number is 01223323361 .',\n",
       " 'absolutely .',\n",
       " 'i recommend the plough , were no reservations is 01223812660 would fit the postcode is an alternate 07220734220 07359534792 is 01223311053 . what kind , and their number is 152154 hills road . would have a nice place -s !',\n",
       " 'you in centre at 01223351880 . would you , they do not in the zip code is 01223323737 and the taxi .',\n",
       " 'glad we can be located at 196 mill road and your desired price range . anything in the hotel . i can be in the centre part of town . would you are midsummer house in the centre .',\n",
       " 'contact the address is 01223400170 number of town is 64 cherry hinton water play is 01223355166',\n",
       " 'yes the fez club salsa or lovell lodge is 01223323737 and the telephone number is 01223241387',\n",
       " 'your meal at 196 mill road city centre and the day . would you are located at pipasha restaurant two and a guesthouse in the address is 01223596055 cineworld cinema , and the city center , the area to try a nice reviews of town . would you .',\n",
       " \"caffe uno . any other information about the golden curry garden , how many is 40270 king 's address . goodbye\",\n",
       " 'i reserve a reservation for your booking was not available for ?',\n",
       " 'and the east , what type is 2g cambridge !',\n",
       " 'as well feel free school .',\n",
       " 'thanks for their contact number is 64 cherry hinton',\n",
       " 'i have your meal !',\n",
       " 'their number is 01223336540 , it is 35 or vice nighclubs , and their phone number is 01223241387 .',\n",
       " 'yes . may be reached at 01799521260 , would you ?',\n",
       " 'the postcode is 08712240240 , and it is 152154 hills road number is 01223812660 . would be a nice place -s are many people in the phone number for that reservation number is thompsons lane , 01223353248 , the gourmet burger kitchen and their number ?',\n",
       " 'a moderate -ly priced chinese restaurant -s . it is 01223315232',\n",
       " 'i do you',\n",
       " 'the number tr5358 sounds good bye . i was successful . is 01223323639',\n",
       " 'can provide a nice restaurant -s ?',\n",
       " 'their address is 183 east , or efes restaurant -s of the gonville hotel is 01223327908 , holy trinity college is 01223354755',\n",
       " 'sorry , would you want me to be reached at 01223327908 , shall we could be of town you are a great food in the nirala .',\n",
       " 'yes , i try something else perhaps the east part of town . what time , located at 01223364917 and the nirala , but the cow pizza kitchen .',\n",
       " 'i found three have an international restaurant -s near your booking to book lovell lodge hotel in the river , lets provide parking . do you like their postcode is 01223247877 . need a great , i have a few moderate -ly priced arts theatre is 01223350059 infn2j8m centre ?',\n",
       " 'the reservation now have no problem ! would you are located and is 01223362456 .',\n",
       " 'a reservation for your visit corpus christi is cb18dw . how many other da vinci pizzeria , would you could be sure , would you have a good bye',\n",
       " 'essentials 17:30 which is 24 green outdoor pool is 01223241387',\n",
       " 'okay goodbye .',\n",
       " 'their contact the post code is 01223359750',\n",
       " 'they have an appointment . would you need anything else , so much',\n",
       " 'i have an expensive .',\n",
       " 'you for them .',\n",
       " 'i help . would you . do not available , they are located at 01223362372 . would you enjoy your price range . the contact number of the north .',\n",
       " 'their contact them at 01223315232 , , but the lucky star rating . the city centre , located in the attraction in the center , it does include -s in the the north b&b and the phone number of the portuguese restaurant -s in the number is 01223355166 .',\n",
       " 'at 11:00 and their phone number is 01223576412 to try any particular area of town . do you tell me to dine in the name . i hope it is 01223353942 and you are not sure , it is 01245493131 that is cb41uy , the centre and the centre and the reservation for a very welcome . do you need more information ?',\n",
       " 'glad i find the river bar , would you ?',\n",
       " 'your preferred section of town , the east . is 01223363471 . would you are quite a nice restaurant -s of town .',\n",
       " 'yes its name the address is 01223363270 . it looks like to choose from . their number is 01480446000 on the river at 01223446100 .',\n",
       " 'you .',\n",
       " 'there are very nice one is 01223362525 .',\n",
       " 'the missing sock is 01223350059 , their phone number is 01223518111',\n",
       " \"you would you are in the gallery at 01223577786 , the gandhi is 01223362525 , the north of line 10.10'lbs food are so much !\",\n",
       " 'the postcode is 01223368786 and their phone number is 01223307402 and can you are moderate -ly . their number is 01223812660 is 01223362525 . is 01223241387 and their phone number uq3wnx7b . would also asian oriental cuisine , looking for a good luck chinese , should i suggest curry garden . the centre is 01223308681 is 01223227330 contact number is 01223323737 and their address of course , yes there are located at 01223902112 with a moderate -ly would you are at 16:15 a restaurant -s and the river bar is 01223355166 tr2006 is 01223355166 offering asian oriental place , autumn house to book it is 01223304050 . their information is crowne plaza hotel -s in the table is 01223302010 . would you can be happy to be nice , is 01223323737 and the postal code is 01223323737 .',\n",
       " 'the lucky star hotel is 01223362525 and the address is 01223323737',\n",
       " 'the expensive british cuisine . would you might i can give you want to try some more information or would you are not work on the town , how many options serve world food type did you have a great 01842753771',\n",
       " 'i can i can be within a few !',\n",
       " 'the emergency department ?',\n",
       " 'sure you would you are at 18:01',\n",
       " 'thank you need to be able to try a wonderful choice . can i check in the postcode is 01223216811 should i think of the situation , it has a good bye',\n",
       " 'what area if you are booked for you the cow pizza hut city centre postcode is 01223413000 . would you are pizza hut cherry hinton water play , and the postcode is 01223566388 .',\n",
       " 'your price range . is 01223362525 qih2pjti of town . what is doubletree by 14:00 on the hotpot is 01223244955 . their regency gallery is 01223358899 number so i ask what is 01223324033 , would you prefer ? it is 01223241387 .',\n",
       " 'you are over the north b guest house is 01223336540 can be reached at 01223566388',\n",
       " 'your reference number is 01223364917 .',\n",
       " 'the train , do you have a moderate -ly priced and they serve british restaurant system ?',\n",
       " 'tr8890 centre .',\n",
       " 'sure ? there is cb12as , would be sure can look like to try another type of the centre , they are chinese restaurant alimentum at 01223902112',\n",
       " 'i ask in town in the centre or would you are located at 01223353942 i have a moderate -ly help desk anytime . have a very nice place !',\n",
       " 'there are located at 18:30 .',\n",
       " 'i book you asked cb30ad',\n",
       " 'i can not a moderate -ly priced and the south . do you are a nice place , goodbye .',\n",
       " 'i do not able to dine . what guests need the tr9886 nirala . can be happy i go , huntingdon marriot to contact the south of town would you would you want to stay at 01223351880 takeaway , which is 01223244955 , it is 01223323737 and the number is 01223577786 and they are a vietnamese restaurant -s , how many great reviews and golden wok .',\n",
       " 'i can i help me to book it is 01223842725 on the restaurant in the city very welcome ! do for the help you are free entrance fee of town , phone number is 01223307581 are adc theatre is 01223308681',\n",
       " 'enjoy your stay within cambridge in the centre and the city centre . am not a great ! i can contact number bs2c1q5x w1yemrmr .',\n",
       " 'i efes restaurant alimentum . would you would you prefer a moderate -ly not reservations ?',\n",
       " 'the restaurant -s have a mexican restaurant -s that is 2g located on the local fitzwilliam museum of town .',\n",
       " 'oh centre .',\n",
       " 'the table is 01223566388 .',\n",
       " 'the phone number is 01223241387 of town you as well there are only one in the man on the gardenia is 01223366668 either the funky fun !',\n",
       " 'its 01223356555 .',\n",
       " 'i would you are located on an upscale .',\n",
       " 'absolutely .',\n",
       " 'great saint johns chop house ?',\n",
       " 'there are a particular type of town , the centre . would you are a moderate -ly priced restaurant alimentum . do so glad i also , do you are only moderate -ly priced .',\n",
       " 'as requested and the river bar . can also , would you can you want the lucky star rating and the zip code is 01223327908 remember the address is 01223362525 . the centre , would you .',\n",
       " 'the grafton centre or rajmahal .',\n",
       " 'unfortunately . the south .',\n",
       " 'i have to help !',\n",
       " 'thank you would the address for me again in the phone number is 01223304050',\n",
       " 'sure the university arms hotel du vin and the south . would you like the tr3246 . would you there are good bye . would you are quite lovely .',\n",
       " 'your party of town and the postcode is 01223355166 . would you have , what time would you like to make a great food in the grafton hotel restaurant -s in the contact the address is 01223304050',\n",
       " 'i book a lovely',\n",
       " 'chiquito restaurant in town .',\n",
       " 'we have three choices are a wonderful dining the expensive 01223362372',\n",
       " 'the restaurant -s of town !',\n",
       " 'their address is 01223353110 , would you need a certain area of the center of town . can i can go centre , they do not or golden wok and the avalon , as your stay has been able to be reached at 01223324033 . would you like the phone number is 01223577786 and the gandhi , stazione restaurant need the east . their phone number is 01223362054 call your criteria . would you can do not a moderate -ly only two nights are several restaurant -s .',\n",
       " 'the address is 01223241387 as well , they are located on hills road , it is 01223247942 to choose from so i hope you a 3 nights was excellent food ?',\n",
       " 'sure thing . can i can help narrow it will be of town . what sort and the address is 01799521260 , they serve british food . would you are quite a good luck chinese restaurant -s are very popular 01223575122 .',\n",
       " 'great , would you for a cheap -ly not 07086024268 can call them are no internet or type of town most definite -ly may i have a red honda ?',\n",
       " 'it is lu2suow2 is dojo noodle bar cityroomz in the lucky star at 191 histon road city centre , address is thompsons lane , they are located in the nandos city center of the west area in the city would you need . it is 01223241387 .',\n",
       " 'the centre and the nirala .',\n",
       " 'yes , south part of town and the curry prince , a great , moderate -ly priced restaurant alimentum at 01223276182 , located in the south part of town would you need any matches your reservation , at 01223362525 . can ask i can help you have a reservation . which is 01223244955',\n",
       " 'sure , east .',\n",
       " \"the hotpot were able to book it is 40270 king 's phone number is 01223241387 . it is 01223360966\",\n",
       " \"the yippee noodle bar 's address is 01223356060 do you need a moderate -ly do you be my pleasure to hear this attraction . the river also tell me to be driving a lot of town at finders were you are in the junction .\",\n",
       " 'booking was successful .',\n",
       " 'which serves international restaurant one seven is 196 mill road . would you find the plough , can you , their phone number ? it is 01223247942',\n",
       " 'okay the golden wok and another place , its phone number is 01223446104 .',\n",
       " 'sorry . the meze serves gastropub restaurant -s have free parking , shall i have free admission is 5 days , and the postcode is 08712240240',\n",
       " 'i suggest meghna .',\n",
       " 'how many people be the yippee noodle bar . did not a good bye .',\n",
       " 'is 01223302330 , the yippee noodle bar in the royal standard is 01223351880 . your booking would you are many in the lucky star rating -s are at 01223241387 . would you are 2 people and the east road and the postcode is 01223307581 . your reservation for any other query . it is 01223400170',\n",
       " 'goodbye ! there is 01223240089 cb12dp and the carolina bed and their phone number is 07653774441 . do not a great night have fun , it is 52 mill road . is 01223302010 . can i can be located at least there is 01223323737 , would you prefer ?',\n",
       " 'thier address: a french cuisine ?',\n",
       " 'cambridge chop house ?',\n",
       " 'in the west . would you need to be 33-34 located at 2124 northampton road . is 01223362054 number is available at 01223276182 a yellow tesla and their phone number is 01223368786',\n",
       " 'thank you a grey lexus that is thompsons lane , their telephone number for the postcode or the lucky star range thank you want me to find one in the address',\n",
       " 'certain -ly can you as well .',\n",
       " 'your reservation',\n",
       " 'that is 196 mill road and the junction by 15:15 for old schools ?',\n",
       " \"you their number is 01223241387 lw1n1dla ask how about the river bar is 01223302010 . would you are two nights would you want me to recommend the south part of town and have an italian , and they are located in the cherry hinton . it'll be nice ! it is 01223368786\",\n",
       " 'it is 24 stars . do not a cheap but the name of town ?',\n",
       " 'certain -ly , the address is 191 histon road . it is 01223361763 address is 01223323737 cb30ad .',\n",
       " 'sure if you want more i can find one of town .',\n",
       " 'booking number is 01223247877 !',\n",
       " 'before i try a few of the restaurant is 01223812660 . would you are located at 01223351707 . would you their phone number is the city centre and the south part of the cambridge leisure park is 01223368786 or mahal of the centre . would you a moderate priced gastropub restaurant -s still want me to make you are two of town !',\n",
       " 'great choice would you are a reservation there are located at 01842753771 ?',\n",
       " 'of town is 01223351707 . anything like me to contact number is 01223362525 . is cb12bd',\n",
       " 'the crowne plaza hotel ?',\n",
       " 'excellent . what time .',\n",
       " 'cherry hinton water play is 01223727410 . the phone number is 07782218745',\n",
       " 'the address is 01223241387 , they are quite a nice . 07708367606 does not a blue bmw !',\n",
       " 'the centre .',\n",
       " 'thank you more info . would you like to be reached at 1-6 corn exchange street city centre . would you are a moderate -ly priced with a reservation for expensive , they are not a good day']"
      ]
     },
     "execution_count": 7,
     "metadata": {},
     "output_type": "execute_result"
    }
   ],
   "source": [
    "[st.replace('\\n', ' ').strip() for st in lst]"
   ]
  },
  {
   "cell_type": "code",
   "execution_count": 21,
   "metadata": {},
   "outputs": [],
   "source": [
    "df = pd.DataFrame([(elem, '0') for elem in lst], columns=['text','label'])\n",
    "df.to_csv('train_lstm_generated.csv', index=False)"
   ]
  },
  {
   "cell_type": "code",
   "execution_count": 22,
   "metadata": {},
   "outputs": [
    {
     "data": {
      "text/plain": [
       "(5468, 2)"
      ]
     },
     "execution_count": 22,
     "metadata": {},
     "output_type": "execute_result"
    }
   ],
   "source": [
    "df.shape"
   ]
  },
  {
   "cell_type": "code",
   "execution_count": null,
   "metadata": {},
   "outputs": [],
   "source": []
  }
 ],
 "metadata": {
  "kernelspec": {
   "display_name": "Python 3",
   "language": "python",
   "name": "python3"
  },
  "language_info": {
   "codemirror_mode": {
    "name": "ipython",
    "version": 3
   },
   "file_extension": ".py",
   "mimetype": "text/x-python",
   "name": "python",
   "nbconvert_exporter": "python",
   "pygments_lexer": "ipython3",
   "version": "3.7.6"
  }
 },
 "nbformat": 4,
 "nbformat_minor": 4
}
